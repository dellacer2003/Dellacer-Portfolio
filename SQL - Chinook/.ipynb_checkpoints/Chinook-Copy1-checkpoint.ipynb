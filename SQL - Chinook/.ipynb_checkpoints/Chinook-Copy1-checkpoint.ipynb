{
 "cells": [
  {
   "cell_type": "markdown",
   "id": "e83225a6",
   "metadata": {},
   "source": [
    "# Diagrams\n",
    "<img src= 'https://raw.githubusercontent.com/m-soro/Business-Analytics/main/SQL-for-Data-Analysis/L4-Project-Query-Music-Store/Misc/001.png' width=600/>"
   ]
  },
  {
   "cell_type": "markdown",
   "id": "f57af0c0",
   "metadata": {},
   "source": [
    "# The imports"
   ]
  },
  {
   "cell_type": "code",
   "execution_count": 1,
   "id": "a8afcc7a",
   "metadata": {},
   "outputs": [],
   "source": [
    "import pandas as pd\n",
    "import numpy as np\n",
    "from sqlalchemy import create_engine\n",
    "import matplotlib.pyplot as plt\n",
    "import seaborn as sns\n",
    "\n",
    "# Database connection details\n",
    "database = 'testspace'\n",
    "user = 'postgres'\n",
    "password = '123'\n",
    "host = 'localhost'\n",
    "port = '5432'\n",
    "\n",
    "# Create a database connection\n",
    "engine = create_engine(f'postgresql://{user}:{password}@{host}:{port}/{database}')"
   ]
  },
  {
   "cell_type": "code",
   "execution_count": 2,
   "id": "a403ac22",
   "metadata": {},
   "outputs": [
    {
     "data": {
      "text/html": [
       "<div>\n",
       "<style scoped>\n",
       "    .dataframe tbody tr th:only-of-type {\n",
       "        vertical-align: middle;\n",
       "    }\n",
       "\n",
       "    .dataframe tbody tr th {\n",
       "        vertical-align: top;\n",
       "    }\n",
       "\n",
       "    .dataframe thead th {\n",
       "        text-align: right;\n",
       "    }\n",
       "</style>\n",
       "<table border=\"1\" class=\"dataframe\">\n",
       "  <thead>\n",
       "    <tr style=\"text-align: right;\">\n",
       "      <th></th>\n",
       "      <th>EmployeeId</th>\n",
       "      <th>LastName</th>\n",
       "      <th>FirstName</th>\n",
       "      <th>Title</th>\n",
       "      <th>ReportsTo</th>\n",
       "      <th>BirthDate</th>\n",
       "      <th>HireDate</th>\n",
       "      <th>Address</th>\n",
       "      <th>City</th>\n",
       "      <th>State</th>\n",
       "      <th>...</th>\n",
       "      <th>Name</th>\n",
       "      <th>AlbumId</th>\n",
       "      <th>Title</th>\n",
       "      <th>ArtistId</th>\n",
       "      <th>ArtistId</th>\n",
       "      <th>Name</th>\n",
       "      <th>PlaylistId</th>\n",
       "      <th>TrackId</th>\n",
       "      <th>PlaylistId</th>\n",
       "      <th>Name</th>\n",
       "    </tr>\n",
       "  </thead>\n",
       "  <tbody>\n",
       "    <tr>\n",
       "      <th>0</th>\n",
       "      <td>NaN</td>\n",
       "      <td>None</td>\n",
       "      <td>None</td>\n",
       "      <td>None</td>\n",
       "      <td>NaN</td>\n",
       "      <td>NaT</td>\n",
       "      <td>NaT</td>\n",
       "      <td>None</td>\n",
       "      <td>None</td>\n",
       "      <td>None</td>\n",
       "      <td>...</td>\n",
       "      <td>Protected MPEG-4 video file</td>\n",
       "      <td>271.0</td>\n",
       "      <td>Revelations</td>\n",
       "      <td>8.0</td>\n",
       "      <td>8.0</td>\n",
       "      <td>Audioslave</td>\n",
       "      <td>1.0</td>\n",
       "      <td>3402.0</td>\n",
       "      <td>1.0</td>\n",
       "      <td>Music</td>\n",
       "    </tr>\n",
       "    <tr>\n",
       "      <th>1</th>\n",
       "      <td>NaN</td>\n",
       "      <td>None</td>\n",
       "      <td>None</td>\n",
       "      <td>None</td>\n",
       "      <td>NaN</td>\n",
       "      <td>NaT</td>\n",
       "      <td>NaT</td>\n",
       "      <td>None</td>\n",
       "      <td>None</td>\n",
       "      <td>None</td>\n",
       "      <td>...</td>\n",
       "      <td>Protected AAC audio file</td>\n",
       "      <td>271.0</td>\n",
       "      <td>Revelations</td>\n",
       "      <td>8.0</td>\n",
       "      <td>8.0</td>\n",
       "      <td>Audioslave</td>\n",
       "      <td>1.0</td>\n",
       "      <td>3389.0</td>\n",
       "      <td>1.0</td>\n",
       "      <td>Music</td>\n",
       "    </tr>\n",
       "    <tr>\n",
       "      <th>2</th>\n",
       "      <td>NaN</td>\n",
       "      <td>None</td>\n",
       "      <td>None</td>\n",
       "      <td>None</td>\n",
       "      <td>NaN</td>\n",
       "      <td>NaT</td>\n",
       "      <td>NaT</td>\n",
       "      <td>None</td>\n",
       "      <td>None</td>\n",
       "      <td>None</td>\n",
       "      <td>...</td>\n",
       "      <td>Protected AAC audio file</td>\n",
       "      <td>271.0</td>\n",
       "      <td>Revelations</td>\n",
       "      <td>8.0</td>\n",
       "      <td>8.0</td>\n",
       "      <td>Audioslave</td>\n",
       "      <td>1.0</td>\n",
       "      <td>3390.0</td>\n",
       "      <td>1.0</td>\n",
       "      <td>Music</td>\n",
       "    </tr>\n",
       "    <tr>\n",
       "      <th>3</th>\n",
       "      <td>3.0</td>\n",
       "      <td>Peacock</td>\n",
       "      <td>Jane</td>\n",
       "      <td>Sales Support Agent</td>\n",
       "      <td>2.0</td>\n",
       "      <td>1973-08-29</td>\n",
       "      <td>2002-04-01</td>\n",
       "      <td>1111 6 Ave SW</td>\n",
       "      <td>Calgary</td>\n",
       "      <td>AB</td>\n",
       "      <td>...</td>\n",
       "      <td>Protected AAC audio file</td>\n",
       "      <td>271.0</td>\n",
       "      <td>Revelations</td>\n",
       "      <td>8.0</td>\n",
       "      <td>8.0</td>\n",
       "      <td>Audioslave</td>\n",
       "      <td>1.0</td>\n",
       "      <td>3391.0</td>\n",
       "      <td>1.0</td>\n",
       "      <td>Music</td>\n",
       "    </tr>\n",
       "    <tr>\n",
       "      <th>4</th>\n",
       "      <td>3.0</td>\n",
       "      <td>Peacock</td>\n",
       "      <td>Jane</td>\n",
       "      <td>Sales Support Agent</td>\n",
       "      <td>2.0</td>\n",
       "      <td>1973-08-29</td>\n",
       "      <td>2002-04-01</td>\n",
       "      <td>1111 6 Ave SW</td>\n",
       "      <td>Calgary</td>\n",
       "      <td>AB</td>\n",
       "      <td>...</td>\n",
       "      <td>Protected AAC audio file</td>\n",
       "      <td>271.0</td>\n",
       "      <td>Revelations</td>\n",
       "      <td>8.0</td>\n",
       "      <td>8.0</td>\n",
       "      <td>Audioslave</td>\n",
       "      <td>1.0</td>\n",
       "      <td>3392.0</td>\n",
       "      <td>1.0</td>\n",
       "      <td>Music</td>\n",
       "    </tr>\n",
       "  </tbody>\n",
       "</table>\n",
       "<p>5 rows × 64 columns</p>\n",
       "</div>"
      ],
      "text/plain": [
       "   EmployeeId LastName FirstName                Title  ReportsTo  BirthDate  \\\n",
       "0         NaN     None      None                 None        NaN        NaT   \n",
       "1         NaN     None      None                 None        NaN        NaT   \n",
       "2         NaN     None      None                 None        NaN        NaT   \n",
       "3         3.0  Peacock      Jane  Sales Support Agent        2.0 1973-08-29   \n",
       "4         3.0  Peacock      Jane  Sales Support Agent        2.0 1973-08-29   \n",
       "\n",
       "    HireDate        Address     City State  ...                         Name  \\\n",
       "0        NaT           None     None  None  ...  Protected MPEG-4 video file   \n",
       "1        NaT           None     None  None  ...     Protected AAC audio file   \n",
       "2        NaT           None     None  None  ...     Protected AAC audio file   \n",
       "3 2002-04-01  1111 6 Ave SW  Calgary    AB  ...     Protected AAC audio file   \n",
       "4 2002-04-01  1111 6 Ave SW  Calgary    AB  ...     Protected AAC audio file   \n",
       "\n",
       "  AlbumId        Title ArtistId ArtistId        Name PlaylistId TrackId  \\\n",
       "0   271.0  Revelations      8.0      8.0  Audioslave        1.0  3402.0   \n",
       "1   271.0  Revelations      8.0      8.0  Audioslave        1.0  3389.0   \n",
       "2   271.0  Revelations      8.0      8.0  Audioslave        1.0  3390.0   \n",
       "3   271.0  Revelations      8.0      8.0  Audioslave        1.0  3391.0   \n",
       "4   271.0  Revelations      8.0      8.0  Audioslave        1.0  3392.0   \n",
       "\n",
       "  PlaylistId   Name  \n",
       "0        1.0  Music  \n",
       "1        1.0  Music  \n",
       "2        1.0  Music  \n",
       "3        1.0  Music  \n",
       "4        1.0  Music  \n",
       "\n",
       "[5 rows x 64 columns]"
      ]
     },
     "execution_count": 2,
     "metadata": {},
     "output_type": "execute_result"
    }
   ],
   "source": [
    "# Join all tables into 1 dataframe to get a closer look at given datas\n",
    "df = pd.read_sql_query('''\n",
    "SELECT *\n",
    "FROM public.\"Employee\"\n",
    "FULL JOIN public.\"Customer\" ON public.\"Employee\".\"EmployeeId\" = public.\"Customer\".\"SupportRepId\"\n",
    "FULL JOIN public.\"Invoice\" ON public.\"Invoice\".\"CustomerId\" = public.\"Customer\".\"CustomerId\"\n",
    "FULL JOIN public.\"InvoiceLine\" ON public.\"Invoice\".\"InvoiceId\" = public.\"InvoiceLine\".\"InvoiceId\"\n",
    "FULL JOIN public.\"Track\" ON public.\"InvoiceLine\".\"TrackId\" = public.\"Track\".\"TrackId\"\n",
    "FULL JOIN public.\"Genre\" ON public.\"Track\".\"GenreId\" = public.\"Genre\".\"GenreId\"\n",
    "FULL JOIN public.\"MediaType\" ON public.\"Track\".\"MediaTypeId\" = public.\"MediaType\".\"MediaTypeId\"\n",
    "FULL JOIN public.\"Album\" ON public.\"Album\".\"AlbumId\" = public.\"Track\".\"AlbumId\"\n",
    "FULL JOIN public.\"Artist\" ON public.\"Album\".\"ArtistId\" = public.\"Artist\".\"ArtistId\"\n",
    "FULL JOIN public.\"PlaylistTrack\" ON public.\"PlaylistTrack\".\"TrackId\" = public.\"Track\".\"TrackId\"\n",
    "FULL JOIN public.\"Playlist\" ON public.\"Playlist\".\"PlaylistId\" = public.\"PlaylistTrack\".\"PlaylistId\"\n",
    ";\n",
    "''', engine)\n",
    "df.head()"
   ]
  },
  {
   "cell_type": "code",
   "execution_count": 3,
   "id": "7b3783cc",
   "metadata": {},
   "outputs": [
    {
     "data": {
      "text/plain": [
       "(9432, 64)"
      ]
     },
     "execution_count": 3,
     "metadata": {},
     "output_type": "execute_result"
    }
   ],
   "source": [
    "df.shape"
   ]
  },
  {
   "cell_type": "code",
   "execution_count": 4,
   "id": "322c291d",
   "metadata": {},
   "outputs": [],
   "source": [
    "df = df.dropna()"
   ]
  },
  {
   "cell_type": "code",
   "execution_count": 5,
   "id": "88e40437",
   "metadata": {
    "scrolled": false
   },
   "outputs": [
    {
     "name": "stdout",
     "output_type": "stream",
     "text": [
      "<class 'pandas.core.frame.DataFrame'>\n",
      "Int64Index: 589 entries, 74 to 9342\n",
      "Data columns (total 64 columns):\n",
      " #   Column             Non-Null Count  Dtype         \n",
      "---  ------             --------------  -----         \n",
      " 0   EmployeeId         589 non-null    float64       \n",
      " 1   LastName           589 non-null    object        \n",
      " 2   FirstName          589 non-null    object        \n",
      " 3   Title              589 non-null    object        \n",
      " 4   ReportsTo          589 non-null    float64       \n",
      " 5   BirthDate          589 non-null    datetime64[ns]\n",
      " 6   HireDate           589 non-null    datetime64[ns]\n",
      " 7   Address            589 non-null    object        \n",
      " 8   City               589 non-null    object        \n",
      " 9   State              589 non-null    object        \n",
      " 10  Country            589 non-null    object        \n",
      " 11  PostalCode         589 non-null    object        \n",
      " 12  Phone              589 non-null    object        \n",
      " 13  Fax                589 non-null    object        \n",
      " 14  Email              589 non-null    object        \n",
      " 15  CustomerId         589 non-null    float64       \n",
      " 16  FirstName          589 non-null    object        \n",
      " 17  LastName           589 non-null    object        \n",
      " 18  Company            589 non-null    object        \n",
      " 19  Address            589 non-null    object        \n",
      " 20  City               589 non-null    object        \n",
      " 21  State              589 non-null    object        \n",
      " 22  Country            589 non-null    object        \n",
      " 23  PostalCode         589 non-null    object        \n",
      " 24  Phone              589 non-null    object        \n",
      " 25  Fax                589 non-null    object        \n",
      " 26  Email              589 non-null    object        \n",
      " 27  SupportRepId       589 non-null    float64       \n",
      " 28  InvoiceId          589 non-null    float64       \n",
      " 29  CustomerId         589 non-null    float64       \n",
      " 30  InvoiceDate        589 non-null    datetime64[ns]\n",
      " 31  BillingAddress     589 non-null    object        \n",
      " 32  BillingCity        589 non-null    object        \n",
      " 33  BillingState       589 non-null    object        \n",
      " 34  BillingCountry     589 non-null    object        \n",
      " 35  BillingPostalCode  589 non-null    object        \n",
      " 36  Total              589 non-null    float64       \n",
      " 37  InvoiceLineId      589 non-null    float64       \n",
      " 38  InvoiceId          589 non-null    float64       \n",
      " 39  TrackId            589 non-null    float64       \n",
      " 40  UnitPrice          589 non-null    float64       \n",
      " 41  Quantity           589 non-null    float64       \n",
      " 42  TrackId            589 non-null    float64       \n",
      " 43  Name               589 non-null    object        \n",
      " 44  AlbumId            589 non-null    float64       \n",
      " 45  MediaTypeId        589 non-null    float64       \n",
      " 46  GenreId            589 non-null    float64       \n",
      " 47  Composer           589 non-null    object        \n",
      " 48  Milliseconds       589 non-null    float64       \n",
      " 49  Bytes              589 non-null    float64       \n",
      " 50  UnitPrice          589 non-null    float64       \n",
      " 51  GenreId            589 non-null    float64       \n",
      " 52  Name               589 non-null    object        \n",
      " 53  MediaTypeId        589 non-null    float64       \n",
      " 54  Name               589 non-null    object        \n",
      " 55  AlbumId            589 non-null    float64       \n",
      " 56  Title              589 non-null    object        \n",
      " 57  ArtistId           589 non-null    float64       \n",
      " 58  ArtistId           589 non-null    float64       \n",
      " 59  Name               589 non-null    object        \n",
      " 60  PlaylistId         589 non-null    float64       \n",
      " 61  TrackId            589 non-null    float64       \n",
      " 62  PlaylistId         589 non-null    float64       \n",
      " 63  Name               589 non-null    object        \n",
      "dtypes: datetime64[ns](3), float64(27), object(34)\n",
      "memory usage: 299.1+ KB\n"
     ]
    }
   ],
   "source": [
    "#Check Non-Null count, data type of each column\n",
    "df.info()"
   ]
  },
  {
   "cell_type": "markdown",
   "id": "0ff1062d",
   "metadata": {},
   "source": [
    "**1. Which countries have the most Invoices?**"
   ]
  },
  {
   "cell_type": "code",
   "execution_count": 8,
   "id": "59eb0c78",
   "metadata": {
    "scrolled": false
   },
   "outputs": [
    {
     "data": {
      "text/html": [
       "<div>\n",
       "<style scoped>\n",
       "    .dataframe tbody tr th:only-of-type {\n",
       "        vertical-align: middle;\n",
       "    }\n",
       "\n",
       "    .dataframe tbody tr th {\n",
       "        vertical-align: top;\n",
       "    }\n",
       "\n",
       "    .dataframe thead th {\n",
       "        text-align: right;\n",
       "    }\n",
       "</style>\n",
       "<table border=\"1\" class=\"dataframe\">\n",
       "  <thead>\n",
       "    <tr style=\"text-align: right;\">\n",
       "      <th></th>\n",
       "      <th>country</th>\n",
       "      <th>count_of_invoices</th>\n",
       "    </tr>\n",
       "  </thead>\n",
       "  <tbody>\n",
       "    <tr>\n",
       "      <th>0</th>\n",
       "      <td>USA</td>\n",
       "      <td>91</td>\n",
       "    </tr>\n",
       "    <tr>\n",
       "      <th>1</th>\n",
       "      <td>Canada</td>\n",
       "      <td>56</td>\n",
       "    </tr>\n",
       "    <tr>\n",
       "      <th>2</th>\n",
       "      <td>Brazil</td>\n",
       "      <td>35</td>\n",
       "    </tr>\n",
       "    <tr>\n",
       "      <th>3</th>\n",
       "      <td>France</td>\n",
       "      <td>35</td>\n",
       "    </tr>\n",
       "    <tr>\n",
       "      <th>4</th>\n",
       "      <td>Germany</td>\n",
       "      <td>28</td>\n",
       "    </tr>\n",
       "  </tbody>\n",
       "</table>\n",
       "</div>"
      ],
      "text/plain": [
       "   country  count_of_invoices\n",
       "0      USA                 91\n",
       "1   Canada                 56\n",
       "2   Brazil                 35\n",
       "3   France                 35\n",
       "4  Germany                 28"
      ]
     },
     "execution_count": 8,
     "metadata": {},
     "output_type": "execute_result"
    }
   ],
   "source": [
    "q1 = pd.read_sql_query('''\n",
    "SELECT public.\"Invoice\".\"BillingCountry\" AS country, COUNT(public.\"Invoice\".\"InvoiceId\") AS count_of_invoices\n",
    "FROM public.\"Invoice\"\n",
    "GROUP BY public.\"Invoice\".\"BillingCountry\"\n",
    "ORDER BY count_of_invoices DESC\n",
    "LIMIT 5;\n",
    "''', engine)\n",
    "q1"
   ]
  },
  {
   "cell_type": "markdown",
   "id": "f072df64",
   "metadata": {},
   "source": [
    "Which city in USA has the most invoices?"
   ]
  },
  {
   "cell_type": "code",
   "execution_count": 9,
   "id": "daf04c67",
   "metadata": {},
   "outputs": [
    {
     "data": {
      "text/html": [
       "<div>\n",
       "<style scoped>\n",
       "    .dataframe tbody tr th:only-of-type {\n",
       "        vertical-align: middle;\n",
       "    }\n",
       "\n",
       "    .dataframe tbody tr th {\n",
       "        vertical-align: top;\n",
       "    }\n",
       "\n",
       "    .dataframe thead th {\n",
       "        text-align: right;\n",
       "    }\n",
       "</style>\n",
       "<table border=\"1\" class=\"dataframe\">\n",
       "  <thead>\n",
       "    <tr style=\"text-align: right;\">\n",
       "      <th></th>\n",
       "      <th>BillingCity</th>\n",
       "      <th>count_of_invoices</th>\n",
       "    </tr>\n",
       "  </thead>\n",
       "  <tbody>\n",
       "    <tr>\n",
       "      <th>0</th>\n",
       "      <td>Mountain View</td>\n",
       "      <td>14</td>\n",
       "    </tr>\n",
       "    <tr>\n",
       "      <th>1</th>\n",
       "      <td>Cupertino</td>\n",
       "      <td>7</td>\n",
       "    </tr>\n",
       "    <tr>\n",
       "      <th>2</th>\n",
       "      <td>Fort Worth</td>\n",
       "      <td>7</td>\n",
       "    </tr>\n",
       "    <tr>\n",
       "      <th>3</th>\n",
       "      <td>Madison</td>\n",
       "      <td>7</td>\n",
       "    </tr>\n",
       "    <tr>\n",
       "      <th>4</th>\n",
       "      <td>Chicago</td>\n",
       "      <td>7</td>\n",
       "    </tr>\n",
       "  </tbody>\n",
       "</table>\n",
       "</div>"
      ],
      "text/plain": [
       "     BillingCity  count_of_invoices\n",
       "0  Mountain View                 14\n",
       "1      Cupertino                  7\n",
       "2     Fort Worth                  7\n",
       "3        Madison                  7\n",
       "4        Chicago                  7"
      ]
     },
     "execution_count": 9,
     "metadata": {},
     "output_type": "execute_result"
    }
   ],
   "source": [
    "q1b=pd.read_sql_query('''\n",
    "SELECT i.\"BillingCity\", COUNT(DISTINCT i.\"InvoiceId\") AS count_of_invoices\n",
    "FROM public.\"Employee\" AS e\n",
    "FULL JOIN public.\"Customer\" AS c ON e.\"EmployeeId\" = c.\"SupportRepId\"\n",
    "FULL JOIN public.\"Invoice\" AS i ON i.\"CustomerId\" = c.\"CustomerId\"\n",
    "WHERE i.\"BillingCountry\" = 'USA'\n",
    "    AND i.\"BillingCity\" IS NOT NULL\n",
    "GROUP BY i.\"BillingCity\"\n",
    "ORDER BY count_of_invoices DESC\n",
    "LIMIT 5\n",
    ";\n",
    "''', engine)\n",
    "q1b"
   ]
  },
  {
   "cell_type": "markdown",
   "id": "4689fb05",
   "metadata": {},
   "source": [
    "USA have the most invoice, 91 in total. And in The USA, Mountain View city has up to 14 invoices"
   ]
  },
  {
   "cell_type": "code",
   "execution_count": 18,
   "id": "35240054",
   "metadata": {},
   "outputs": [
    {
     "data": {
      "text/plain": [
       "Text(0.5, 1.0, 'Invoice count by Country')"
      ]
     },
     "execution_count": 18,
     "metadata": {},
     "output_type": "execute_result"
    },
    {
     "data": {
      "image/png": "[encoded data removed]",
      "text/plain": [
       "<Figure size 640x480 with 1 Axes>"
      ]
     },
     "metadata": {},
     "output_type": "display_data"
    }
   ],
   "source": [
    "#Plotting\n",
    "sns.barplot(data=q1, x='count_of_invoices', y='country', palette = 'colorblind')\n",
    "plt.grid(True)\n",
    "\n",
    "#Labels, texting\n",
    "index_and_value_1 =[]\n",
    "x = 0\n",
    "while x < len(q1):\n",
    "    y = q1['count_of_invoices'][x]\n",
    "    index_and_value_1.append([x,y])\n",
    "    x += 1\n",
    "for x, y in index_and_value_1:\n",
    "    plt.text(y,x,str(y), color = 'black')\n",
    "sns.despine()\n",
    "plt.xlabel('Count of Invoices')\n",
    "plt.ylabel('Country')\n",
    "plt.title('Invoice count by Country')"
   ]
  },
  {
   "cell_type": "markdown",
   "id": "0c16c567",
   "metadata": {},
   "source": [
    "**2. Which city has the most customers?**"
   ]
  },
  {
   "cell_type": "code",
   "execution_count": 13,
   "id": "cc4d28aa",
   "metadata": {
    "scrolled": true
   },
   "outputs": [
    {
     "data": {
      "text/html": [
       "<div>\n",
       "<style scoped>\n",
       "    .dataframe tbody tr th:only-of-type {\n",
       "        vertical-align: middle;\n",
       "    }\n",
       "\n",
       "    .dataframe tbody tr th {\n",
       "        vertical-align: top;\n",
       "    }\n",
       "\n",
       "    .dataframe thead th {\n",
       "        text-align: right;\n",
       "    }\n",
       "</style>\n",
       "<table border=\"1\" class=\"dataframe\">\n",
       "  <thead>\n",
       "    <tr style=\"text-align: right;\">\n",
       "      <th></th>\n",
       "      <th>city</th>\n",
       "      <th>country</th>\n",
       "      <th>count_of_customers</th>\n",
       "    </tr>\n",
       "  </thead>\n",
       "  <tbody>\n",
       "    <tr>\n",
       "      <th>0</th>\n",
       "      <td>Paris</td>\n",
       "      <td>France</td>\n",
       "      <td>14</td>\n",
       "    </tr>\n",
       "  </tbody>\n",
       "</table>\n",
       "</div>"
      ],
      "text/plain": [
       "    city country  count_of_customers\n",
       "0  Paris  France                  14"
      ]
     },
     "execution_count": 13,
     "metadata": {},
     "output_type": "execute_result"
    }
   ],
   "source": [
    "pd.read_sql_query('''\n",
    "SELECT public.\"Invoice\".\"BillingCity\" AS city, public.\"Invoice\".\"BillingCountry\" AS country, COUNT(public.\"Invoice\".\"CustomerId\") AS count_of_customers\n",
    "FROM public.\"Invoice\"\n",
    "GROUP BY city, country\n",
    "ORDER BY count_of_customers DESC\n",
    "LIMIT 1;\n",
    "''', engine)"
   ]
  },
  {
   "cell_type": "markdown",
   "id": "73a9a062",
   "metadata": {},
   "source": [
    "**3. Who is the best customer? The customer who has spent the most money will be declared the best customer.**"
   ]
  },
  {
   "cell_type": "code",
   "execution_count": 14,
   "id": "d12ecd18",
   "metadata": {},
   "outputs": [
    {
     "data": {
      "text/html": [
       "<div>\n",
       "<style scoped>\n",
       "    .dataframe tbody tr th:only-of-type {\n",
       "        vertical-align: middle;\n",
       "    }\n",
       "\n",
       "    .dataframe tbody tr th {\n",
       "        vertical-align: top;\n",
       "    }\n",
       "\n",
       "    .dataframe thead th {\n",
       "        text-align: right;\n",
       "    }\n",
       "</style>\n",
       "<table border=\"1\" class=\"dataframe\">\n",
       "  <thead>\n",
       "    <tr style=\"text-align: right;\">\n",
       "      <th></th>\n",
       "      <th>customer_id</th>\n",
       "      <th>total_money</th>\n",
       "      <th>name</th>\n",
       "      <th>country</th>\n",
       "    </tr>\n",
       "  </thead>\n",
       "  <tbody>\n",
       "    <tr>\n",
       "      <th>0</th>\n",
       "      <td>6</td>\n",
       "      <td>49.62</td>\n",
       "      <td>Helena Holý</td>\n",
       "      <td>Czech Republic</td>\n",
       "    </tr>\n",
       "  </tbody>\n",
       "</table>\n",
       "</div>"
      ],
      "text/plain": [
       "   customer_id  total_money         name         country\n",
       "0            6        49.62  Helena Holý  Czech Republic"
      ]
     },
     "execution_count": 14,
     "metadata": {},
     "output_type": "execute_result"
    }
   ],
   "source": [
    "pd.read_sql_query('''\n",
    "SELECT DISTINCT public.\"Invoice\".\"CustomerId\" AS customer_id, SUM(public.\"Invoice\".\"Total\") AS total_money,\n",
    "    (public.\"Customer\".\"FirstName\" || ' ' || public.\"Customer\".\"LastName\") AS name, public.\"Invoice\".\"BillingCountry\" AS country\n",
    "FROM public.\"Invoice\"\n",
    "INNER JOIN public.\"Customer\"\n",
    "ON public.\"Customer\".\"CustomerId\" = public.\"Invoice\".\"CustomerId\"\n",
    "GROUP BY name, customer_id, country\n",
    "ORDER BY total_money DESC\n",
    "LIMIT 1\n",
    "''', engine)"
   ]
  },
  {
   "cell_type": "markdown",
   "id": "d4a4258f",
   "metadata": {},
   "source": [
    "**4. Return the email, first name, last name, and Genre of all Rock Music listeners. Return your list ordered alphabetically by email address starting with A.**"
   ]
  },
  {
   "cell_type": "markdown",
   "id": "4d861535",
   "metadata": {},
   "source": [
    "- Firstly, I am going to examize how many customers listening to Rock music versus the total number of customers recorded."
   ]
  },
  {
   "cell_type": "code",
   "execution_count": 15,
   "id": "e50cd2f7",
   "metadata": {},
   "outputs": [
    {
     "name": "stdout",
     "output_type": "stream",
     "text": [
      "   rock_listeners\n",
      "0              59\n",
      "   distinct_customers\n",
      "0                  59\n"
     ]
    }
   ],
   "source": [
    "print(pd.read_sql_query('''\n",
    "WITH filter AS(\n",
    "    SELECT i.\"InvoiceId\", il.\"TrackId\", i.\"CustomerId\"\n",
    "    FROM public.\"Invoice\" AS i\n",
    "    INNER JOIN public.\"InvoiceLine\" AS il\n",
    "    ON i.\"InvoiceId\" = il.\"InvoiceId\"\n",
    "    INNER JOIN public.\"Track\" AS t\n",
    "    ON t.\"TrackId\" = il.\"TrackId\"\n",
    "    WHERE t.\"GenreId\" = 1)\n",
    "SELECT COUNT(DISTINCT filter.\"CustomerId\") AS rock_listeners\n",
    "FROM filter;\n",
    "''',engine))\n",
    "print(pd.read_sql_query('''\n",
    "SELECT COUNT(DISTINCT public.\"Customer\".\"CustomerId\") AS distinct_customers\n",
    "FROM public.\"Customer\";\n",
    "''',engine))"
   ]
  },
  {
   "cell_type": "markdown",
   "id": "7b939b50",
   "metadata": {},
   "source": [
    "=> By the above query, I can confirm that every customer in the Customer table listen to Rock music, so the job here is just to query every asked information by joining related tables."
   ]
  },
  {
   "cell_type": "code",
   "execution_count": 16,
   "id": "0423e342",
   "metadata": {
    "scrolled": false
   },
   "outputs": [
    {
     "data": {
      "text/html": [
       "<div>\n",
       "<style scoped>\n",
       "    .dataframe tbody tr th:only-of-type {\n",
       "        vertical-align: middle;\n",
       "    }\n",
       "\n",
       "    .dataframe tbody tr th {\n",
       "        vertical-align: top;\n",
       "    }\n",
       "\n",
       "    .dataframe thead th {\n",
       "        text-align: right;\n",
       "    }\n",
       "</style>\n",
       "<table border=\"1\" class=\"dataframe\">\n",
       "  <thead>\n",
       "    <tr style=\"text-align: right;\">\n",
       "      <th></th>\n",
       "      <th>email</th>\n",
       "      <th>fname</th>\n",
       "      <th>lname</th>\n",
       "      <th>genre</th>\n",
       "    </tr>\n",
       "  </thead>\n",
       "  <tbody>\n",
       "    <tr>\n",
       "      <th>0</th>\n",
       "      <td>aaronmitchell@yahoo.ca</td>\n",
       "      <td>Aaron</td>\n",
       "      <td>Mitchell</td>\n",
       "      <td>Blues</td>\n",
       "    </tr>\n",
       "    <tr>\n",
       "      <th>1</th>\n",
       "      <td>aaronmitchell@yahoo.ca</td>\n",
       "      <td>Aaron</td>\n",
       "      <td>Mitchell</td>\n",
       "      <td>Jazz</td>\n",
       "    </tr>\n",
       "    <tr>\n",
       "      <th>2</th>\n",
       "      <td>aaronmitchell@yahoo.ca</td>\n",
       "      <td>Aaron</td>\n",
       "      <td>Mitchell</td>\n",
       "      <td>Latin</td>\n",
       "    </tr>\n",
       "    <tr>\n",
       "      <th>3</th>\n",
       "      <td>aaronmitchell@yahoo.ca</td>\n",
       "      <td>Aaron</td>\n",
       "      <td>Mitchell</td>\n",
       "      <td>Metal</td>\n",
       "    </tr>\n",
       "    <tr>\n",
       "      <th>4</th>\n",
       "      <td>aaronmitchell@yahoo.ca</td>\n",
       "      <td>Aaron</td>\n",
       "      <td>Mitchell</td>\n",
       "      <td>Reggae</td>\n",
       "    </tr>\n",
       "    <tr>\n",
       "      <th>...</th>\n",
       "      <td>...</td>\n",
       "      <td>...</td>\n",
       "      <td>...</td>\n",
       "      <td>...</td>\n",
       "    </tr>\n",
       "    <tr>\n",
       "      <th>435</th>\n",
       "      <td>wyatt.girard@yahoo.fr</td>\n",
       "      <td>Wyatt</td>\n",
       "      <td>Girard</td>\n",
       "      <td>Latin</td>\n",
       "    </tr>\n",
       "    <tr>\n",
       "      <th>436</th>\n",
       "      <td>wyatt.girard@yahoo.fr</td>\n",
       "      <td>Wyatt</td>\n",
       "      <td>Girard</td>\n",
       "      <td>Metal</td>\n",
       "    </tr>\n",
       "    <tr>\n",
       "      <th>437</th>\n",
       "      <td>wyatt.girard@yahoo.fr</td>\n",
       "      <td>Wyatt</td>\n",
       "      <td>Girard</td>\n",
       "      <td>Rock</td>\n",
       "    </tr>\n",
       "    <tr>\n",
       "      <th>438</th>\n",
       "      <td>wyatt.girard@yahoo.fr</td>\n",
       "      <td>Wyatt</td>\n",
       "      <td>Girard</td>\n",
       "      <td>Rock And Roll</td>\n",
       "    </tr>\n",
       "    <tr>\n",
       "      <th>439</th>\n",
       "      <td>wyatt.girard@yahoo.fr</td>\n",
       "      <td>Wyatt</td>\n",
       "      <td>Girard</td>\n",
       "      <td>Sci Fi &amp; Fantasy</td>\n",
       "    </tr>\n",
       "  </tbody>\n",
       "</table>\n",
       "<p>440 rows × 4 columns</p>\n",
       "</div>"
      ],
      "text/plain": [
       "                      email  fname     lname             genre\n",
       "0    aaronmitchell@yahoo.ca  Aaron  Mitchell             Blues\n",
       "1    aaronmitchell@yahoo.ca  Aaron  Mitchell              Jazz\n",
       "2    aaronmitchell@yahoo.ca  Aaron  Mitchell             Latin\n",
       "3    aaronmitchell@yahoo.ca  Aaron  Mitchell             Metal\n",
       "4    aaronmitchell@yahoo.ca  Aaron  Mitchell            Reggae\n",
       "..                      ...    ...       ...               ...\n",
       "435   wyatt.girard@yahoo.fr  Wyatt    Girard             Latin\n",
       "436   wyatt.girard@yahoo.fr  Wyatt    Girard             Metal\n",
       "437   wyatt.girard@yahoo.fr  Wyatt    Girard              Rock\n",
       "438   wyatt.girard@yahoo.fr  Wyatt    Girard     Rock And Roll\n",
       "439   wyatt.girard@yahoo.fr  Wyatt    Girard  Sci Fi & Fantasy\n",
       "\n",
       "[440 rows x 4 columns]"
      ]
     },
     "execution_count": 16,
     "metadata": {},
     "output_type": "execute_result"
    }
   ],
   "source": [
    "pd.read_sql_query('''\n",
    "WITH rock_listener AS (\n",
    "SELECT c.\"Email\" as email,\n",
    "       c.\"FirstName\" as fname,\n",
    "       c.\"LastName\" as lname,\n",
    "       g.\"Name\" as genre\n",
    "FROM public.\"Customer\" AS c\n",
    "INNER JOIN public.\"Invoice\" AS i\n",
    "ON c.\"CustomerId\" = i.\"CustomerId\"\n",
    "INNER JOIN public.\"InvoiceLine\" AS il\n",
    "ON i.\"InvoiceId\" = il.\"InvoiceId\"\n",
    "INNER JOIN public.\"Track\" AS t\n",
    "ON il.\"TrackId\" = t.\"TrackId\"\n",
    "INNER JOIN public.\"Genre\" AS g\n",
    "ON t.\"GenreId\" = g.\"GenreId\")\n",
    "SELECT DISTINCT *\n",
    "FROM rock_listener\n",
    "ORDER BY email;\n",
    "''', engine)"
   ]
  },
  {
   "cell_type": "markdown",
   "id": "a7e7a839",
   "metadata": {},
   "source": [
    "**5. Who is writing the rock music? Now that we know that our customers love rock music, we can decide which musicians to invite to play at the concert.**\n",
    "\n",
    "**Let's invite the artists who have written the most rock music in our dataset. Write a query that returns the Artist name and total track count of the top 10 rock bands.**"
   ]
  },
  {
   "cell_type": "code",
   "execution_count": 17,
   "id": "ee2d8c20",
   "metadata": {},
   "outputs": [
    {
     "data": {
      "text/html": [
       "<div>\n",
       "<style scoped>\n",
       "    .dataframe tbody tr th:only-of-type {\n",
       "        vertical-align: middle;\n",
       "    }\n",
       "\n",
       "    .dataframe tbody tr th {\n",
       "        vertical-align: top;\n",
       "    }\n",
       "\n",
       "    .dataframe thead th {\n",
       "        text-align: right;\n",
       "    }\n",
       "</style>\n",
       "<table border=\"1\" class=\"dataframe\">\n",
       "  <thead>\n",
       "    <tr style=\"text-align: right;\">\n",
       "      <th></th>\n",
       "      <th>band</th>\n",
       "      <th>count</th>\n",
       "    </tr>\n",
       "  </thead>\n",
       "  <tbody>\n",
       "    <tr>\n",
       "      <th>0</th>\n",
       "      <td>Led Zeppelin</td>\n",
       "      <td>114</td>\n",
       "    </tr>\n",
       "    <tr>\n",
       "      <th>1</th>\n",
       "      <td>U2</td>\n",
       "      <td>112</td>\n",
       "    </tr>\n",
       "    <tr>\n",
       "      <th>2</th>\n",
       "      <td>Deep Purple</td>\n",
       "      <td>92</td>\n",
       "    </tr>\n",
       "    <tr>\n",
       "      <th>3</th>\n",
       "      <td>Iron Maiden</td>\n",
       "      <td>81</td>\n",
       "    </tr>\n",
       "    <tr>\n",
       "      <th>4</th>\n",
       "      <td>Pearl Jam</td>\n",
       "      <td>54</td>\n",
       "    </tr>\n",
       "    <tr>\n",
       "      <th>5</th>\n",
       "      <td>Van Halen</td>\n",
       "      <td>52</td>\n",
       "    </tr>\n",
       "    <tr>\n",
       "      <th>6</th>\n",
       "      <td>Queen</td>\n",
       "      <td>45</td>\n",
       "    </tr>\n",
       "    <tr>\n",
       "      <th>7</th>\n",
       "      <td>The Rolling Stones</td>\n",
       "      <td>41</td>\n",
       "    </tr>\n",
       "    <tr>\n",
       "      <th>8</th>\n",
       "      <td>Creedence Clearwater Revival</td>\n",
       "      <td>40</td>\n",
       "    </tr>\n",
       "    <tr>\n",
       "      <th>9</th>\n",
       "      <td>Kiss</td>\n",
       "      <td>35</td>\n",
       "    </tr>\n",
       "  </tbody>\n",
       "</table>\n",
       "</div>"
      ],
      "text/plain": [
       "                           band  count\n",
       "0                  Led Zeppelin    114\n",
       "1                            U2    112\n",
       "2                   Deep Purple     92\n",
       "3                   Iron Maiden     81\n",
       "4                     Pearl Jam     54\n",
       "5                     Van Halen     52\n",
       "6                         Queen     45\n",
       "7            The Rolling Stones     41\n",
       "8  Creedence Clearwater Revival     40\n",
       "9                          Kiss     35"
      ]
     },
     "execution_count": 17,
     "metadata": {},
     "output_type": "execute_result"
    }
   ],
   "source": [
    "q5=pd.read_sql_query('''\n",
    "SELECT DISTINCT ar.\"Name\" AS band, COUNT(DISTINCT t.\"TrackId\")\n",
    "FROM public.\"Track\" AS t\n",
    "INNER JOIN public.\"Album\" AS al ON t.\"AlbumId\" = al.\"AlbumId\"\n",
    "INNER JOIN public.\"Artist\" AS ar ON ar.\"ArtistId\" = al.\"ArtistId\"\n",
    "WHERE t.\"GenreId\" = 1\n",
    "GROUP BY band\n",
    "ORDER BY count DESC\n",
    "LIMIT 10\n",
    ";\n",
    "''',engine)\n",
    "q5"
   ]
  },
  {
   "cell_type": "code",
   "execution_count": 14,
   "id": "23b7a9ae",
   "metadata": {},
   "outputs": [
    {
     "name": "stdout",
     "output_type": "stream",
     "text": [
      "[[0, 114], [1, 112], [2, 92], [3, 81], [4, 54], [5, 52], [6, 45], [7, 41], [8, 40], [9, 35]]\n"
     ]
    },
    {
     "data": {
      "text/plain": [
       "Text(0.5, 1.0, 'Track count')"
      ]
     },
     "execution_count": 14,
     "metadata": {},
     "output_type": "execute_result"
    },
    {
     "data": {
      "image/png": "[encoded data removed]",
      "text/plain": [
       "<Figure size 640x480 with 1 Axes>"
      ]
     },
     "metadata": {},
     "output_type": "display_data"
    }
   ],
   "source": [
    "index_and_value_5 =[]\n",
    "x = 0\n",
    "while x < len(q5):\n",
    "    y = q5['count'][x]\n",
    "    index_and_value_5.append([x,y])\n",
    "    x += 1\n",
    "print(index_and_value_5)\n",
    "\n",
    "sns.barplot(data=q5, x='count', y='band', palette = 'colorblind')\n",
    "plt.grid(True)\n",
    "for x, y in index_and_value_5:\n",
    "    plt.text(y,x+0.125,str(y), color = 'black')\n",
    "sns.despine()\n",
    "plt.xlabel('Count of Tracks')\n",
    "plt.ylabel('Band')\n",
    "plt.title('Track count')"
   ]
  },
  {
   "cell_type": "markdown",
   "id": "0827deb6",
   "metadata": {},
   "source": [
    "**6. First, find which artist has earned the most according to the InvoiceLines?**\n",
    "\n",
    "**Now use this artist to find which customer spent the most on this artist.**"
   ]
  },
  {
   "cell_type": "code",
   "execution_count": 18,
   "id": "32244ff1",
   "metadata": {},
   "outputs": [
    {
     "name": "stdout",
     "output_type": "stream",
     "text": [
      "          band  total\n",
      "0  Iron Maiden  138.6\n"
     ]
    },
    {
     "data": {
      "text/plain": [
       "Text(0.5, 1.0, 'Earning of Bands')"
      ]
     },
     "execution_count": 18,
     "metadata": {},
     "output_type": "execute_result"
    },
    {
     "data": {
      "image/png": "[encoded data removed]",
      "text/plain": [
       "<Figure size 640x480 with 1 Axes>"
      ]
     },
     "metadata": {},
     "output_type": "display_data"
    }
   ],
   "source": [
    "q6 = pd.read_sql_query('''\n",
    "WITH a AS(\n",
    "\tSELECT ar.\"Name\", il.\"UnitPrice\"*il.\"Quantity\" AS price\n",
    "\tFROM public.\"Artist\" AS ar\n",
    "\tINNER JOIN public.\"Album\" AS al ON ar.\"ArtistId\"=al.\"ArtistId\"\n",
    "\tINNER JOIN public.\"Track\" AS t ON al.\"AlbumId\"=t.\"AlbumId\"\n",
    "\tINNER JOIN public.\"InvoiceLine\" AS il ON t.\"TrackId\"=il.\"TrackId\"\n",
    "\tINNER JOIN public.\"Invoice\" AS i ON il.\"InvoiceId\"=i.\"InvoiceId\"\n",
    "\tINNER JOIN public.\"Customer\" AS c ON i.\"CustomerId\"=c.\"CustomerId\")\n",
    "SELECT a.\"Name\" AS band, SUM(a.\"price\") AS total\n",
    "FROM a\n",
    "GROUP BY band\n",
    "ORDER BY total DESC\n",
    "LIMIT 10\n",
    ";\n",
    "''',engine)\n",
    "print(q6[0:1])\n",
    "\n",
    "index_and_value_6 =[]\n",
    "x = 0\n",
    "while x < len(q6):\n",
    "    y = q6['total'][x]\n",
    "    index_and_value_6.append([x,y])\n",
    "    x += 1\n",
    "\n",
    "sns.barplot(data=q6, x='total', y='band', palette = 'colorblind')\n",
    "plt.grid(True)\n",
    "for x, y in index_and_value_6:\n",
    "    plt.text(y,x,str(y), color = 'black')\n",
    "sns.despine()\n",
    "plt.xlabel('Total')\n",
    "plt.ylabel('Band')\n",
    "plt.title('Earning of Bands')"
   ]
  },
  {
   "cell_type": "code",
   "execution_count": 19,
   "id": "9a5344f1",
   "metadata": {
    "scrolled": true
   },
   "outputs": [
    {
     "data": {
      "text/html": [
       "<div>\n",
       "<style scoped>\n",
       "    .dataframe tbody tr th:only-of-type {\n",
       "        vertical-align: middle;\n",
       "    }\n",
       "\n",
       "    .dataframe tbody tr th {\n",
       "        vertical-align: top;\n",
       "    }\n",
       "\n",
       "    .dataframe thead th {\n",
       "        text-align: right;\n",
       "    }\n",
       "</style>\n",
       "<table border=\"1\" class=\"dataframe\">\n",
       "  <thead>\n",
       "    <tr style=\"text-align: right;\">\n",
       "      <th></th>\n",
       "      <th>full_name</th>\n",
       "      <th>total</th>\n",
       "    </tr>\n",
       "  </thead>\n",
       "  <tbody>\n",
       "    <tr>\n",
       "      <th>0</th>\n",
       "      <td>Mark Taylor</td>\n",
       "      <td>209.88</td>\n",
       "    </tr>\n",
       "  </tbody>\n",
       "</table>\n",
       "</div>"
      ],
      "text/plain": [
       "     full_name   total\n",
       "0  Mark Taylor  209.88"
      ]
     },
     "execution_count": 19,
     "metadata": {},
     "output_type": "execute_result"
    }
   ],
   "source": [
    "pd.read_sql_query('''\n",
    "SELECT c.\"FirstName\" || ' ' || c.\"LastName\" AS full_name, SUM(i.\"Total\") AS total\n",
    "FROM public.\"Artist\" AS ar\n",
    "INNER JOIN public.\"Album\" AS al ON ar.\"ArtistId\"=al.\"ArtistId\"\n",
    "INNER JOIN public.\"Track\" AS t ON al.\"AlbumId\"=t.\"AlbumId\"\n",
    "INNER JOIN public.\"InvoiceLine\" AS il ON t.\"TrackId\"=il.\"TrackId\"\n",
    "INNER JOIN public.\"Invoice\" AS i ON il.\"InvoiceId\"=i.\"InvoiceId\"\n",
    "INNER JOIN public.\"Customer\" AS c ON i.\"CustomerId\"=c.\"CustomerId\"\n",
    "WHERE ar.\"Name\" = 'Iron Maiden'\n",
    "GROUP BY full_name\n",
    "ORDER BY total DESC\n",
    "LIMIT 1;\n",
    "''',engine)"
   ]
  },
  {
   "cell_type": "markdown",
   "id": "5f3d2c37",
   "metadata": {},
   "source": [
    " **7. How much did each customers spent per genre**"
   ]
  },
  {
   "cell_type": "code",
   "execution_count": 20,
   "id": "afcc38ec",
   "metadata": {},
   "outputs": [
    {
     "data": {
      "text/html": [
       "<div>\n",
       "<style scoped>\n",
       "    .dataframe tbody tr th:only-of-type {\n",
       "        vertical-align: middle;\n",
       "    }\n",
       "\n",
       "    .dataframe tbody tr th {\n",
       "        vertical-align: top;\n",
       "    }\n",
       "\n",
       "    .dataframe thead th {\n",
       "        text-align: right;\n",
       "    }\n",
       "</style>\n",
       "<table border=\"1\" class=\"dataframe\">\n",
       "  <thead>\n",
       "    <tr style=\"text-align: right;\">\n",
       "      <th></th>\n",
       "      <th>customer_name</th>\n",
       "      <th>genre</th>\n",
       "      <th>total</th>\n",
       "    </tr>\n",
       "  </thead>\n",
       "  <tbody>\n",
       "    <tr>\n",
       "      <th>0</th>\n",
       "      <td>Aaron Mitchell</td>\n",
       "      <td>Blues</td>\n",
       "      <td>1.98</td>\n",
       "    </tr>\n",
       "    <tr>\n",
       "      <th>1</th>\n",
       "      <td>Aaron Mitchell</td>\n",
       "      <td>Jazz</td>\n",
       "      <td>1.98</td>\n",
       "    </tr>\n",
       "    <tr>\n",
       "      <th>2</th>\n",
       "      <td>Aaron Mitchell</td>\n",
       "      <td>Latin</td>\n",
       "      <td>13.86</td>\n",
       "    </tr>\n",
       "    <tr>\n",
       "      <th>3</th>\n",
       "      <td>Aaron Mitchell</td>\n",
       "      <td>Metal</td>\n",
       "      <td>6.93</td>\n",
       "    </tr>\n",
       "    <tr>\n",
       "      <th>4</th>\n",
       "      <td>Aaron Mitchell</td>\n",
       "      <td>Reggae</td>\n",
       "      <td>2.97</td>\n",
       "    </tr>\n",
       "    <tr>\n",
       "      <th>...</th>\n",
       "      <td>...</td>\n",
       "      <td>...</td>\n",
       "      <td>...</td>\n",
       "    </tr>\n",
       "    <tr>\n",
       "      <th>435</th>\n",
       "      <td>Wyatt Girard</td>\n",
       "      <td>Latin</td>\n",
       "      <td>3.96</td>\n",
       "    </tr>\n",
       "    <tr>\n",
       "      <th>436</th>\n",
       "      <td>Wyatt Girard</td>\n",
       "      <td>Metal</td>\n",
       "      <td>13.86</td>\n",
       "    </tr>\n",
       "    <tr>\n",
       "      <th>437</th>\n",
       "      <td>Wyatt Girard</td>\n",
       "      <td>Rock</td>\n",
       "      <td>6.93</td>\n",
       "    </tr>\n",
       "    <tr>\n",
       "      <th>438</th>\n",
       "      <td>Wyatt Girard</td>\n",
       "      <td>Rock And Roll</td>\n",
       "      <td>0.99</td>\n",
       "    </tr>\n",
       "    <tr>\n",
       "      <th>439</th>\n",
       "      <td>Wyatt Girard</td>\n",
       "      <td>Sci Fi &amp; Fantasy</td>\n",
       "      <td>3.98</td>\n",
       "    </tr>\n",
       "  </tbody>\n",
       "</table>\n",
       "<p>440 rows × 3 columns</p>\n",
       "</div>"
      ],
      "text/plain": [
       "      customer_name             genre  total\n",
       "0    Aaron Mitchell             Blues   1.98\n",
       "1    Aaron Mitchell              Jazz   1.98\n",
       "2    Aaron Mitchell             Latin  13.86\n",
       "3    Aaron Mitchell             Metal   6.93\n",
       "4    Aaron Mitchell            Reggae   2.97\n",
       "..              ...               ...    ...\n",
       "435    Wyatt Girard             Latin   3.96\n",
       "436    Wyatt Girard             Metal  13.86\n",
       "437    Wyatt Girard              Rock   6.93\n",
       "438    Wyatt Girard     Rock And Roll   0.99\n",
       "439    Wyatt Girard  Sci Fi & Fantasy   3.98\n",
       "\n",
       "[440 rows x 3 columns]"
      ]
     },
     "execution_count": 20,
     "metadata": {},
     "output_type": "execute_result"
    }
   ],
   "source": [
    "pd.read_sql_query('''\n",
    "SELECT  c.\"FirstName\" || ' ' || c.\"LastName\" AS customer_name, g.\"Name\" AS genre, SUM((il.\"UnitPrice\"*il.\"Quantity\")) AS total\n",
    "FROM public.\"Customer\" AS c\n",
    "INNER JOIN public.\"Invoice\" AS i USING(\"CustomerId\")\n",
    "INNER JOIN public.\"InvoiceLine\" AS il USING(\"InvoiceId\")\n",
    "INNER JOIN public.\"Track\" AS t USING(\"TrackId\")\n",
    "INNER JOIN public.\"Genre\" AS g USING(\"GenreId\")\n",
    "GROUP BY customer_name, genre\n",
    "ORDER BY customer_name\n",
    "''',engine)"
   ]
  },
  {
   "cell_type": "code",
   "execution_count": 21,
   "id": "b13d3e74",
   "metadata": {},
   "outputs": [
    {
     "data": {
      "text/html": [
       "<div>\n",
       "<style scoped>\n",
       "    .dataframe tbody tr th:only-of-type {\n",
       "        vertical-align: middle;\n",
       "    }\n",
       "\n",
       "    .dataframe tbody tr th {\n",
       "        vertical-align: top;\n",
       "    }\n",
       "\n",
       "    .dataframe thead th {\n",
       "        text-align: right;\n",
       "    }\n",
       "</style>\n",
       "<table border=\"1\" class=\"dataframe\">\n",
       "  <thead>\n",
       "    <tr style=\"text-align: right;\">\n",
       "      <th></th>\n",
       "      <th>genre</th>\n",
       "      <th>total</th>\n",
       "    </tr>\n",
       "  </thead>\n",
       "  <tbody>\n",
       "    <tr>\n",
       "      <th>0</th>\n",
       "      <td>Rock</td>\n",
       "      <td>826.65</td>\n",
       "    </tr>\n",
       "    <tr>\n",
       "      <th>1</th>\n",
       "      <td>Latin</td>\n",
       "      <td>382.14</td>\n",
       "    </tr>\n",
       "    <tr>\n",
       "      <th>2</th>\n",
       "      <td>Metal</td>\n",
       "      <td>261.36</td>\n",
       "    </tr>\n",
       "    <tr>\n",
       "      <th>3</th>\n",
       "      <td>Alternative &amp; Punk</td>\n",
       "      <td>241.56</td>\n",
       "    </tr>\n",
       "    <tr>\n",
       "      <th>4</th>\n",
       "      <td>TV Shows</td>\n",
       "      <td>93.53</td>\n",
       "    </tr>\n",
       "    <tr>\n",
       "      <th>5</th>\n",
       "      <td>Jazz</td>\n",
       "      <td>79.20</td>\n",
       "    </tr>\n",
       "    <tr>\n",
       "      <th>6</th>\n",
       "      <td>Blues</td>\n",
       "      <td>60.39</td>\n",
       "    </tr>\n",
       "    <tr>\n",
       "      <th>7</th>\n",
       "      <td>Drama</td>\n",
       "      <td>57.71</td>\n",
       "    </tr>\n",
       "    <tr>\n",
       "      <th>8</th>\n",
       "      <td>Classical</td>\n",
       "      <td>40.59</td>\n",
       "    </tr>\n",
       "    <tr>\n",
       "      <th>9</th>\n",
       "      <td>R&amp;B/Soul</td>\n",
       "      <td>40.59</td>\n",
       "    </tr>\n",
       "  </tbody>\n",
       "</table>\n",
       "</div>"
      ],
      "text/plain": [
       "                genre   total\n",
       "0                Rock  826.65\n",
       "1               Latin  382.14\n",
       "2               Metal  261.36\n",
       "3  Alternative & Punk  241.56\n",
       "4            TV Shows   93.53\n",
       "5                Jazz   79.20\n",
       "6               Blues   60.39\n",
       "7               Drama   57.71\n",
       "8           Classical   40.59\n",
       "9            R&B/Soul   40.59"
      ]
     },
     "execution_count": 21,
     "metadata": {},
     "output_type": "execute_result"
    }
   ],
   "source": [
    "top_ten_genre = pd.read_sql_query('''\n",
    "SELECT g.\"Name\" AS genre, SUM((il.\"UnitPrice\"*il.\"Quantity\")) AS total\n",
    "FROM public.\"Customer\" AS c\n",
    "INNER JOIN public.\"Invoice\" AS i USING(\"CustomerId\")\n",
    "INNER JOIN public.\"InvoiceLine\" AS il USING(\"InvoiceId\")\n",
    "INNER JOIN public.\"Track\" AS t USING(\"TrackId\")\n",
    "INNER JOIN public.\"Genre\" AS g USING(\"GenreId\")\n",
    "GROUP BY genre\n",
    "ORDER BY total DESC\n",
    "LIMIT 10;\n",
    "''',engine)\n",
    "top_ten_genre"
   ]
  },
  {
   "cell_type": "markdown",
   "id": "5f11e732",
   "metadata": {},
   "source": [
    "**8. How much was spent over all on each genre?**"
   ]
  },
  {
   "cell_type": "code",
   "execution_count": 22,
   "id": "b61a14f9",
   "metadata": {},
   "outputs": [],
   "source": [
    "spending_on_genre = pd.read_sql_query('''\n",
    "SELECT g.\"Name\" AS genre, SUM((il.\"UnitPrice\"*il.\"Quantity\")) AS total\n",
    "FROM public.\"Customer\" AS c\n",
    "INNER JOIN public.\"Invoice\" AS i USING(\"CustomerId\")\n",
    "INNER JOIN public.\"InvoiceLine\" AS il USING(\"InvoiceId\")\n",
    "INNER JOIN public.\"Track\" AS t USING(\"TrackId\")\n",
    "INNER JOIN public.\"Genre\" AS g USING(\"GenreId\")\n",
    "GROUP BY genre\n",
    "ORDER BY total DESC;\n",
    "''',engine)"
   ]
  },
  {
   "cell_type": "code",
   "execution_count": 23,
   "id": "a466d8bd",
   "metadata": {
    "scrolled": false
   },
   "outputs": [
    {
     "data": {
      "text/plain": [
       "Text(0.5, 1.0, 'Spending on Genre')"
      ]
     },
     "execution_count": 23,
     "metadata": {},
     "output_type": "execute_result"
    },
    {
     "data": {
      "image/png": "[encoded data removed]",
      "text/plain": [
       "<Figure size 1100x600 with 1 Axes>"
      ]
     },
     "metadata": {},
     "output_type": "display_data"
    }
   ],
   "source": [
    "#Creating a list of (x,y)\n",
    "index_and_value_8 =[]\n",
    "x = 0\n",
    "while x < len(spending_on_genre):\n",
    "    y = spending_on_genre['total'][x]\n",
    "    index_and_value_8.append([x,y])\n",
    "    x += 1\n",
    "\n",
    "#Data visualization\n",
    "plt.figure(figsize=(11, 6))\n",
    "sns.barplot(data=spending_on_genre, x='total', y='genre', palette = 'colorblind')\n",
    "plt.grid(True)\n",
    "#Denote the data above each column in the chart\n",
    "for x, y in index_and_value_8:\n",
    "    plt.text(y,x+0.25,str(y), color = 'black')\n",
    "sns.despine()\n",
    "plt.xlabel('')\n",
    "plt.ylabel('')\n",
    "plt.title('Spending on Genre')"
   ]
  },
  {
   "cell_type": "markdown",
   "id": "87135c7a",
   "metadata": {},
   "source": [
    "- Based on the above data visualization of this dataset, it is evident that customers spend the most on **Rock music**. The total amount of money spent on Rock music is nearly twice as much as the second-ranking genre, Latin.\n",
    "\n",
    "- Clearly distinguishing between music genres helps us understand that one genre can attract a large number of listeners, while another genre with a similar name may not enjoy the same level of popularity. For example, in this dataset, although there is significant interest in **Rock music**, **Rock And Roll music** appears to have a more selective audience compared to **Rock**. This is same for **Metal** and **Heavy Metal**."
   ]
  },
  {
   "cell_type": "code",
   "execution_count": null,
   "id": "285a9ce9",
   "metadata": {},
   "outputs": [],
   "source": []
  },
  {
   "cell_type": "markdown",
   "id": "3b633479",
   "metadata": {},
   "source": [
    "<img src= 'https://raw.githubusercontent.com/m-soro/Business-Analytics/main/SQL-for-Data-Analysis/L4-Project-Query-Music-Store/Misc/001.png' width=600/>"
   ]
  }
 ],
 "metadata": {
  "kernelspec": {
   "display_name": "Python 3 (ipykernel)",
   "language": "python",
   "name": "python3"
  },
  "language_info": {
   "codemirror_mode": {
    "name": "ipython",
    "version": 3
   },
   "file_extension": ".py",
   "mimetype": "text/x-python",
   "name": "python",
   "nbconvert_exporter": "python",
   "pygments_lexer": "ipython3",
   "version": "3.10.9"
  }
 },
 "nbformat": 4,
 "nbformat_minor": 5
}
